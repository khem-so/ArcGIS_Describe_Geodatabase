{
 "cells": [
  {
   "cell_type": "code",
   "execution_count": 1,
   "metadata": {},
   "outputs": [],
   "source": [
    "# -*- coding: utf-8 -*-\n",
    "import os\n",
    "import sys\n",
    "import pandas as pd\n",
    "\n",
    "import arcpy"
   ]
  },
  {
   "cell_type": "code",
   "execution_count": 2,
   "metadata": {},
   "outputs": [],
   "source": [
    "starting_workspace = arcpy.env.workspace\n",
    "\n",
    "# Hardcoded gdb for testing, replace with params\n",
    "gdb = r'C:/Users/kso/Documents/WORKSPACE/ManagementActions/Archive/OSB_Mgmt_Actions_Tracking_BKUP_20210611/OSB_Mgmt_Actions_Tracking_20210611.gdb'\n",
    "# Hardcoded output_folder for testing, replace with params\n",
    "output_folder = r'C:/Users/kso/Documents/WORKSPACE/ManagementActions/Archive/OSB_Mgmt_Actions_Tracking_BKUP_20210611/'\n",
    "arcpy.AddMessage( \"gdb = {}\".format(gdb) )\n",
    "arcpy.AddMessage( \"output {}\".format(output_folder) )"
   ]
  },
  {
   "cell_type": "code",
   "execution_count": 3,
   "metadata": {},
   "outputs": [],
   "source": [
    "def get_tables_from_GDB():\n",
    "    fcs, tbls = [], []\n",
    "    for fds in arcpy.ListDatasets(feature_type='feature') + ['']:\n",
    "        for fc in arcpy.ListFeatureClasses(feature_dataset=fds):\n",
    "            fcs.append(os.path.join(arcpy.env.workspace, fds, fc))\n",
    "    tbl_list = arcpy.ListTables()\n",
    "    if tbl_list:\n",
    "        for tbl in tbl_list:\n",
    "            tbls.append(os.path.join(arcpy.env.workspace, tbl))                \n",
    "\n",
    "    return fcs, tbls"
   ]
  },
  {
   "cell_type": "code",
   "execution_count": 4,
   "metadata": {},
   "outputs": [],
   "source": [
    "def describe_table(table, dest_csv):\n",
    "    fields = []\n",
    "    for field in arcpy.ListFields(table):\n",
    "        try:\n",
    "            unique = len(set([row for row in arcpy.da.SearchCursor(table, field.name)]))\n",
    "        except:\n",
    "            unique = 'Unknown'\n",
    "        field_desc = (\n",
    "            field.name,\n",
    "            field.type,\n",
    "            field.length,\n",
    "            field.aliasName, \n",
    "            field.domain,\n",
    "            field.defaultValue,\n",
    "            field.isNullable,\n",
    "            field.required,\n",
    "            field.editable,            \n",
    "            field.precision,\n",
    "            field.scale,\n",
    "            unique,\n",
    "            )\n",
    "        fields.append(field_desc)\n",
    "\n",
    "    table = []\n",
    "    for field in fields:\n",
    "        table.append(field)\n",
    "\n",
    "    df_table = pd.DataFrame(table, columns=['Name', 'DataType', 'Length', 'AliasName', 'Domain', 'DefaultValue', 'IsNullable', 'Required', 'Editable', 'Precision', 'Scale', 'UniqueRecordCount'])\n",
    "\n",
    "    df_table.to_csv(dest_csv, index=False)"
   ]
  },
  {
   "cell_type": "code",
   "execution_count": 5,
   "metadata": {},
   "outputs": [],
   "source": [
    "def describe_Relationships(gdb, output_folder):  \n",
    "    rc_list = [c.name for c in arcpy.Describe(gdb).children\n",
    "                if c.datatype == \"RelationshipClass\"]\n",
    "\n",
    "    desc_list = []\n",
    "\n",
    "    for rc in rc_list:  \n",
    "         rc_path = os.path.join(gdb, rc)\n",
    "         des_rc = arcpy.Describe(rc_path)  \n",
    "         rel_class_details = (\n",
    "             rc,\n",
    "             des_rc.originClassNames,\n",
    "             des_rc.destinationClassNames,             \n",
    "             des_rc.originClassKeys,\n",
    "             des_rc.destinationClassKeys,\n",
    "             des_rc.forwardPathLabel,\n",
    "             des_rc.backwardPathLabel,\n",
    "             des_rc.cardinality,\n",
    "             des_rc.classKey,\n",
    "             des_rc.keyType,\n",
    "             des_rc.IsAttachmentRelationship,\n",
    "             des_rc.isAttributed,\n",
    "             des_rc.isComposite,\n",
    "             des_rc.isReflexive,\n",
    "             des_rc.notification)\n",
    "         desc_list.append(rel_class_details)\n",
    "\n",
    "    df_relationships = pd.DataFrame(desc_list, columns=['Relationship_Name',\n",
    "                'Origin_Class_Name','Destination_Class_Name',\n",
    "                'Origin_Class_Key','Destination_Class_Key', \n",
    "                'Forward_Path_Label', 'Backward_Path_Label',\n",
    "                'Cardinality', 'Class_Key', 'Key_Type', 'Is_Attachment',\n",
    "                'Is_Attributed', 'Is_Composite', 'Is_Reflexive',\n",
    "                'Notification'])\n",
    "    \n",
    "    df_relationships.to_csv(os.path.join(output_folder,'Relationship_Classes.csv'), index=False)"
   ]
  },
  {
   "cell_type": "code",
   "execution_count": 6,
   "metadata": {},
   "outputs": [],
   "source": [
    "# Set the workspace to gdb\n",
    "arcpy.env.workspace = gdb\n",
    "\n",
    "# List all the feature classes in gdb\n",
    "fcs, tbls = get_tables_from_GDB()"
   ]
  },
  {
   "cell_type": "code",
   "execution_count": 7,
   "metadata": {},
   "outputs": [],
   "source": [
    "# Create a list of jobs (feature_class, output_table)    \n",
    "fc_jobs = [(fc, os.path.join(output_folder,\n",
    "            'tbl_{}.csv'.format(os.path.basename(fc))))\n",
    "            for fc in fcs]\n",
    "tbl_jobs = [(tbl, os.path.join(output_folder,\n",
    "             'tbl_{}.csv'.format(os.path.basename(tbl))))\n",
    "             for tbl in tbls]\n",
    "\n",
    "jobs = fc_jobs + tbl_jobs"
   ]
  },
  {
   "cell_type": "code",
   "execution_count": 8,
   "metadata": {},
   "outputs": [],
   "source": [
    "for job in jobs:\n",
    "    describe_table(job[0], job[1])"
   ]
  },
  {
   "cell_type": "code",
   "execution_count": 9,
   "metadata": {},
   "outputs": [],
   "source": [
    "# Get the domains\n",
    "desc = arcpy.Describe(gdb)\n",
    "domains = desc.domains\n",
    "\n",
    "for domain in domains:\n",
    "    table = os.path.join(output_folder,\n",
    "                     '{}.csv'.format(domain.replace(' ', '_')))\n",
    "\n",
    "    arcpy.DomainToTable_management(gdb, domain, table,\n",
    "                               'field', 'description', '#')"
   ]
  },
  {
   "cell_type": "code",
   "execution_count": 10,
   "metadata": {},
   "outputs": [],
   "source": [
    "# get the relationship classes\n",
    "describe_Relationships(gdb, output_folder)"
   ]
  },
  {
   "cell_type": "code",
   "execution_count": 11,
   "metadata": {},
   "outputs": [],
   "source": [
    "arcpy.env.workspace = starting_workspace"
   ]
  }
 ],
 "metadata": {
  "kernelspec": {
   "display_name": "Python 3",
   "language": "python",
   "name": "python3"
  },
  "language_info": {
   "codemirror_mode": {
    "name": "ipython",
    "version": 3
   },
   "file_extension": ".py",
   "mimetype": "text/x-python",
   "name": "python",
   "nbconvert_exporter": "python",
   "pygments_lexer": "ipython3",
   "version": "3.7.10"
  }
 },
 "nbformat": 4,
 "nbformat_minor": 4
}
